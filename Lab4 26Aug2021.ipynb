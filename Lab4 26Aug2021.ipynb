{
 "cells": [
  {
   "cell_type": "code",
   "execution_count": 1,
   "id": "683ea45d",
   "metadata": {},
   "outputs": [],
   "source": [
    "import numpy as np\n",
    "import matplotlib.pyplot as plt\n",
    "import pandas as pd"
   ]
  },
  {
   "cell_type": "markdown",
   "id": "a3757c81",
   "metadata": {},
   "source": [
    "## Load the Data & Visualize it"
   ]
  },
  {
   "cell_type": "code",
   "execution_count": 2,
   "id": "8a636009",
   "metadata": {},
   "outputs": [],
   "source": [
    "X = pd.read_csv('./TrainingData/Linear_X_Train.csv')\n",
    "Y = pd.read_csv('./TrainingData/Linear_Y_Train.csv')"
   ]
  },
  {
   "cell_type": "code",
   "execution_count": 3,
   "id": "cc787b87",
   "metadata": {},
   "outputs": [
    {
     "data": {
      "image/png": "[encoded data removed]",
      "text/plain": [
       "<Figure size 432x288 with 1 Axes>"
      ]
     },
     "metadata": {
      "needs_background": "light"
     },
     "output_type": "display_data"
    }
   ],
   "source": [
    "plt.scatter(X,Y)\n",
    "plt.show()"
   ]
  },
  {
   "cell_type": "code",
   "execution_count": 4,
   "id": "ff0a14ec",
   "metadata": {},
   "outputs": [
    {
     "data": {
      "text/plain": [
       "(3750, 1)"
      ]
     },
     "execution_count": 4,
     "metadata": {},
     "output_type": "execute_result"
    }
   ],
   "source": [
    "X.shape"
   ]
  },
  {
   "cell_type": "code",
   "execution_count": 5,
   "id": "6c14c650",
   "metadata": {},
   "outputs": [
    {
     "data": {
      "text/plain": [
       "pandas.core.frame.DataFrame"
      ]
     },
     "execution_count": 5,
     "metadata": {},
     "output_type": "execute_result"
    }
   ],
   "source": [
    "type(X)"
   ]
  },
  {
   "cell_type": "code",
   "execution_count": 6,
   "id": "083ec37b",
   "metadata": {},
   "outputs": [],
   "source": [
    "X = X.values\n",
    "Y = Y.values"
   ]
  },
  {
   "cell_type": "markdown",
   "id": "891e00dd",
   "metadata": {},
   "source": [
    "### Normalization"
   ]
  },
  {
   "cell_type": "code",
   "execution_count": 7,
   "id": "323e30a9",
   "metadata": {},
   "outputs": [
    {
     "name": "stdout",
     "output_type": "stream",
     "text": [
      "-0.03779466168006854 0.9920801322508517\n"
     ]
    }
   ],
   "source": [
    "u = X.mean()\n",
    "std = X.std()\n",
    "print(u, std)"
   ]
  },
  {
   "cell_type": "code",
   "execution_count": 8,
   "id": "9ea7a3ed",
   "metadata": {},
   "outputs": [],
   "source": [
    "X = (X - u)/std"
   ]
  },
  {
   "cell_type": "code",
   "execution_count": 9,
   "id": "630b546e",
   "metadata": {},
   "outputs": [
    {
     "data": {
      "image/png": "[encoded data removed]",
      "text/plain": [
       "<Figure size 576x396 with 1 Axes>"
      ]
     },
     "metadata": {},
     "output_type": "display_data"
    }
   ],
   "source": [
    "plt.style.use('seaborn')\n",
    "plt.scatter(X,Y,color = 'orange')\n",
    "plt.title('Hardwork v/s Score')\n",
    "plt.xlabel('Time')\n",
    "plt.ylabel('Score')\n",
    "plt.show()"
   ]
  },
  {
   "cell_type": "markdown",
   "id": "5fe6d2d4",
   "metadata": {},
   "source": [
    "## Linear Regression"
   ]
  },
  {
   "cell_type": "code",
   "execution_count": 22,
   "id": "ea7a19bc",
   "metadata": {},
   "outputs": [],
   "source": [
    "# theta is a vector which will contain both theta0 and theta1\n",
    "def hypothesis(x, theta) :\n",
    "    y_ = theta[0] + theta[1]*x\n",
    "    return y_\n",
    "\n",
    "def gradient(X, Y, theta) :\n",
    "    grad = np.zeros((2,))\n",
    "    m = X.shape[0]\n",
    "    \n",
    "    for i in range(m) : \n",
    "        x = X[i]\n",
    "        y_ = hypothesis(x, theta)\n",
    "        y = Y[i]\n",
    "        \n",
    "        grad[0] += (y_ - y)\n",
    "        grad[1] += (y_ - y) * x\n",
    "        \n",
    "    return grad/m \n",
    "\n",
    "def error(X,Y,theta) :\n",
    "    \n",
    "    m = X.shape[0]\n",
    "    \n",
    "    total_error = 0.0 \n",
    "    \n",
    "    for i in range(m) :\n",
    "        x = X[i]\n",
    "        y_ = hypothesis(x, theta)\n",
    "        y = Y[i]\n",
    "        total_error += (y_ - y)**2\n",
    "        \n",
    "    return total_error/m\n",
    "\n",
    "def gradientDescent(X,Y,steps = 100, lr = 0.1) :\n",
    "    \n",
    "    # start with zero value of theta\n",
    "    theta = np.zeros((2,))\n",
    "    \n",
    "    error_list = []\n",
    "    \n",
    "    for i in range(steps) :\n",
    "        \n",
    "        grad = gradient(X,Y,theta)\n",
    "        \n",
    "        # error\n",
    "        e = error(X,Y,theta)\n",
    "        error_list.append(e)\n",
    "        \n",
    "        # update theta\n",
    "        theta[0] = theta[0] - lr * grad[0] \n",
    "        theta[1] = theta[1] - lr * grad[1] \n",
    "        \n",
    "    return theta, error_list\n",
    "        "
   ]
  },
  {
   "cell_type": "code",
   "execution_count": 23,
   "id": "2872a3fc",
   "metadata": {},
   "outputs": [],
   "source": [
    "theta, error_list = gradientDescent(X,Y)"
   ]
  },
  {
   "cell_type": "code",
   "execution_count": 24,
   "id": "d892778f",
   "metadata": {},
   "outputs": [
    {
     "data": {
      "text/plain": [
       "[array([6576.35005246]),\n",
       " array([5363.12510257]),\n",
       " array([4380.41289317]),\n",
       " array([3584.41600355]),\n",
       " array([2939.65852295]),\n",
       " array([2417.40496367]),\n",
       " array([1994.37958066]),\n",
       " array([1651.72902041]),\n",
       " array([1374.18206661]),\n",
       " array([1149.36903404]),\n",
       " array([967.27047765]),\n",
       " array([819.77064698]),\n",
       " array([700.29578413]),\n",
       " array([603.52114523]),\n",
       " array([525.13368772]),\n",
       " array([461.63984713]),\n",
       " array([410.20983626]),\n",
       " array([368.55152745]),\n",
       " array([334.80829731]),\n",
       " array([307.47628091]),\n",
       " array([285.33734761]),\n",
       " array([267.40481165]),\n",
       " array([252.87945752]),\n",
       " array([241.11392067]),\n",
       " array([231.58383582]),\n",
       " array([223.8644671]),\n",
       " array([217.61177843]),\n",
       " array([212.54710061]),\n",
       " array([208.44471157]),\n",
       " array([205.12177646]),\n",
       " array([202.43019901]),\n",
       " array([200.25002128]),\n",
       " array([198.48407732]),\n",
       " array([197.05366271]),\n",
       " array([195.89502687]),\n",
       " array([194.95653185]),\n",
       " array([194.19635088]),\n",
       " array([193.58060429]),\n",
       " array([193.08184956]),\n",
       " array([192.67785822]),\n",
       " array([192.35062524]),\n",
       " array([192.08556653]),\n",
       " array([191.87086897]),\n",
       " array([191.69696394]),\n",
       " array([191.55610088]),\n",
       " array([191.44200179]),\n",
       " array([191.34958153]),\n",
       " array([191.27472112]),\n",
       " array([191.21408419]),\n",
       " array([191.16496827]),\n",
       " array([191.12518438]),\n",
       " array([191.09295943]),\n",
       " array([191.06685722]),\n",
       " array([191.04571443]),\n",
       " array([191.02858877]),\n",
       " array([191.01471698]),\n",
       " array([191.00348084]),\n",
       " array([190.99437956]),\n",
       " array([190.98700752]),\n",
       " array([190.98103617]),\n",
       " array([190.97619938]),\n",
       " array([190.97228158]),\n",
       " array([190.96910816]),\n",
       " array([190.96653769]),\n",
       " array([190.96445561]),\n",
       " array([190.96276913]),\n",
       " array([190.96140307]),\n",
       " array([190.96029657]),\n",
       " array([190.9594003]),\n",
       " array([190.95867433]),\n",
       " array([190.95808628]),\n",
       " array([190.95760997]),\n",
       " array([190.95722416]),\n",
       " array([190.95691165]),\n",
       " array([190.95665852]),\n",
       " array([190.95645348]),\n",
       " array([190.9562874]),\n",
       " array([190.95615287]),\n",
       " array([190.95604391]),\n",
       " array([190.95595565]),\n",
       " array([190.95588415]),\n",
       " array([190.95582625]),\n",
       " array([190.95577934]),\n",
       " array([190.95574135]),\n",
       " array([190.95571057]),\n",
       " array([190.95568564]),\n",
       " array([190.95566545]),\n",
       " array([190.9556491]),\n",
       " array([190.95563585]),\n",
       " array([190.95562512]),\n",
       " array([190.95561643]),\n",
       " array([190.95560939]),\n",
       " array([190.95560368]),\n",
       " array([190.95559906]),\n",
       " array([190.95559532]),\n",
       " array([190.95559229]),\n",
       " array([190.95558984]),\n",
       " array([190.95558785]),\n",
       " array([190.95558624]),\n",
       " array([190.95558493])]"
      ]
     },
     "execution_count": 24,
     "metadata": {},
     "output_type": "execute_result"
    }
   ],
   "source": [
    "error_list"
   ]
  },
  {
   "cell_type": "code",
   "execution_count": 25,
   "id": "266cdcff",
   "metadata": {},
   "outputs": [
    {
     "data": {
      "text/plain": [
       "[<matplotlib.lines.Line2D at 0x120b08640>]"
      ]
     },
     "execution_count": 25,
     "metadata": {},
     "output_type": "execute_result"
    },
    {
     "data": {
      "image/png": "[encoded data removed]",
      "text/plain": [
       "<Figure size 576x396 with 1 Axes>"
      ]
     },
     "metadata": {},
     "output_type": "display_data"
    }
   ],
   "source": [
    "plt.plot(error_list)"
   ]
  },
  {
   "cell_type": "markdown",
   "id": "2a068c66",
   "metadata": {},
   "source": [
    "## Prediction"
   ]
  },
  {
   "cell_type": "code",
   "execution_count": 14,
   "id": "a48cf15f",
   "metadata": {},
   "outputs": [
    {
     "name": "stdout",
     "output_type": "stream",
     "text": [
      "[[-19.5733619 ]\n",
      " [-43.69571729]\n",
      " [ 86.4848761 ]\n",
      " ...\n",
      " [-20.85044708]\n",
      " [138.70197319]\n",
      " [-35.87897262]]\n"
     ]
    }
   ],
   "source": [
    "Y_ = hypothesis(X, theta)\n",
    "print(Y_)"
   ]
  },
  {
   "cell_type": "code",
   "execution_count": 15,
   "id": "7c4f6249",
   "metadata": {},
   "outputs": [
    {
     "data": {
      "image/png": "[encoded data removed]",
      "text/plain": [
       "<Figure size 576x396 with 1 Axes>"
      ]
     },
     "metadata": {},
     "output_type": "display_data"
    }
   ],
   "source": [
    "plt.style.use('seaborn')\n",
    "plt.scatter(X,Y)\n",
    "plt.plot(X,Y_,color = 'orange')\n",
    "plt.title('Hardwork v/s Score')\n",
    "plt.xlabel('Time')\n",
    "plt.ylabel('Score')\n",
    "plt.show()"
   ]
  },
  {
   "cell_type": "markdown",
   "id": "8b99eac9",
   "metadata": {},
   "source": [
    "### R2 Score"
   ]
  },
  {
   "cell_type": "code",
   "execution_count": 16,
   "id": "76c9e08d",
   "metadata": {},
   "outputs": [],
   "source": [
    "def r2_score(Y, Y_) :\n",
    "    num = np.sum((Y - Y_)**2)\n",
    "    denom = np.sum((Y - Y.mean())**2)\n",
    "    score = 1 - num/denom\n",
    "    \n",
    "    return score * 100"
   ]
  },
  {
   "cell_type": "code",
   "execution_count": 17,
   "id": "826eefbe",
   "metadata": {},
   "outputs": [
    {
     "data": {
      "text/plain": [
       "97.09612226971643"
      ]
     },
     "execution_count": 17,
     "metadata": {},
     "output_type": "execute_result"
    }
   ],
   "source": [
    "r2_score(Y,Y_)"
   ]
  },
  {
   "cell_type": "code",
   "execution_count": null,
   "id": "147ad058",
   "metadata": {},
   "outputs": [],
   "source": []
  }
 ],
 "metadata": {
  "kernelspec": {
   "display_name": "Python 3 (ipykernel)",
   "language": "python",
   "name": "python3"
  },
  "language_info": {
   "codemirror_mode": {
    "name": "ipython",
    "version": 3
   },
   "file_extension": ".py",
   "mimetype": "text/x-python",
   "name": "python",
   "nbconvert_exporter": "python",
   "pygments_lexer": "ipython3",
   "version": "3.8.2"
  }
 },
 "nbformat": 4,
 "nbformat_minor": 5
}
