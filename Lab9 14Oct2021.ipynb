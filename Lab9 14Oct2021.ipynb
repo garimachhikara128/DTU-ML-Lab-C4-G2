{
 "cells": [
  {
   "cell_type": "markdown",
   "metadata": {},
   "source": [
    "# Principal Component Analysis"
   ]
  },
  {
   "cell_type": "code",
   "execution_count": 38,
   "metadata": {
    "executionInfo": {
     "elapsed": 368,
     "status": "ok",
     "timestamp": 1634202389154,
     "user": {
      "displayName": "Garima Chhikara",
      "photoUrl": "https://lh3.googleusercontent.com/a-/AOh14Ggi9Hv_sAnUzQlZnP_iuiVNwRUwQ6xA0rvVuOv1Og=s64",
      "userId": "04303712092160616729"
     },
     "user_tz": -330
    },
    "id": "iPNmaC0ZzXkK"
   },
   "outputs": [],
   "source": [
    "import numpy as np\n",
    "import pandas as pd\n",
    "import matplotlib.pyplot as plt"
   ]
  },
  {
   "cell_type": "code",
   "execution_count": 39,
   "metadata": {
    "colab": {
     "base_uri": "https://localhost:8080/",
     "height": 203
    },
    "executionInfo": {
     "elapsed": 35,
     "status": "ok",
     "timestamp": 1634202389821,
     "user": {
      "displayName": "Garima Chhikara",
      "photoUrl": "https://lh3.googleusercontent.com/a-/AOh14Ggi9Hv_sAnUzQlZnP_iuiVNwRUwQ6xA0rvVuOv1Og=s64",
      "userId": "04303712092160616729"
     },
     "user_tz": -330
    },
    "id": "1Ao0gzBYzhIE",
    "outputId": "b37d882a-ceac-4021-fb75-e16abba08861"
   },
   "outputs": [
    {
     "data": {
      "text/html": [
       "<div>\n",
       "<style scoped>\n",
       "    .dataframe tbody tr th:only-of-type {\n",
       "        vertical-align: middle;\n",
       "    }\n",
       "\n",
       "    .dataframe tbody tr th {\n",
       "        vertical-align: top;\n",
       "    }\n",
       "\n",
       "    .dataframe thead th {\n",
       "        text-align: right;\n",
       "    }\n",
       "</style>\n",
       "<table border=\"1\" class=\"dataframe\">\n",
       "  <thead>\n",
       "    <tr style=\"text-align: right;\">\n",
       "      <th></th>\n",
       "      <th>Id</th>\n",
       "      <th>SepalLengthCm</th>\n",
       "      <th>SepalWidthCm</th>\n",
       "      <th>PetalLengthCm</th>\n",
       "      <th>PetalWidthCm</th>\n",
       "      <th>Species</th>\n",
       "    </tr>\n",
       "  </thead>\n",
       "  <tbody>\n",
       "    <tr>\n",
       "      <th>0</th>\n",
       "      <td>1</td>\n",
       "      <td>5.1</td>\n",
       "      <td>3.5</td>\n",
       "      <td>1.4</td>\n",
       "      <td>0.2</td>\n",
       "      <td>Iris-setosa</td>\n",
       "    </tr>\n",
       "    <tr>\n",
       "      <th>1</th>\n",
       "      <td>2</td>\n",
       "      <td>4.9</td>\n",
       "      <td>3.0</td>\n",
       "      <td>1.4</td>\n",
       "      <td>0.2</td>\n",
       "      <td>Iris-setosa</td>\n",
       "    </tr>\n",
       "    <tr>\n",
       "      <th>2</th>\n",
       "      <td>3</td>\n",
       "      <td>4.7</td>\n",
       "      <td>3.2</td>\n",
       "      <td>1.3</td>\n",
       "      <td>0.2</td>\n",
       "      <td>Iris-setosa</td>\n",
       "    </tr>\n",
       "    <tr>\n",
       "      <th>3</th>\n",
       "      <td>4</td>\n",
       "      <td>4.6</td>\n",
       "      <td>3.1</td>\n",
       "      <td>1.5</td>\n",
       "      <td>0.2</td>\n",
       "      <td>Iris-setosa</td>\n",
       "    </tr>\n",
       "    <tr>\n",
       "      <th>4</th>\n",
       "      <td>5</td>\n",
       "      <td>5.0</td>\n",
       "      <td>3.6</td>\n",
       "      <td>1.4</td>\n",
       "      <td>0.2</td>\n",
       "      <td>Iris-setosa</td>\n",
       "    </tr>\n",
       "  </tbody>\n",
       "</table>\n",
       "</div>"
      ],
      "text/plain": [
       "   Id  SepalLengthCm  SepalWidthCm  PetalLengthCm  PetalWidthCm      Species\n",
       "0   1            5.1           3.5            1.4           0.2  Iris-setosa\n",
       "1   2            4.9           3.0            1.4           0.2  Iris-setosa\n",
       "2   3            4.7           3.2            1.3           0.2  Iris-setosa\n",
       "3   4            4.6           3.1            1.5           0.2  Iris-setosa\n",
       "4   5            5.0           3.6            1.4           0.2  Iris-setosa"
      ]
     },
     "execution_count": 39,
     "metadata": {},
     "output_type": "execute_result"
    }
   ],
   "source": [
    "data = pd.read_csv(\"https://raw.githubusercontent.com/garimachhikara128/DTU-ML-Lab-C4-G2/master/TrainingData/Iris.csv\")\n",
    "data.head()"
   ]
  },
  {
   "cell_type": "code",
   "execution_count": 40,
   "metadata": {
    "colab": {
     "base_uri": "https://localhost:8080/"
    },
    "executionInfo": {
     "elapsed": 31,
     "status": "ok",
     "timestamp": 1634202389822,
     "user": {
      "displayName": "Garima Chhikara",
      "photoUrl": "https://lh3.googleusercontent.com/a-/AOh14Ggi9Hv_sAnUzQlZnP_iuiVNwRUwQ6xA0rvVuOv1Og=s64",
      "userId": "04303712092160616729"
     },
     "user_tz": -330
    },
    "id": "FN1J-2Ic091T",
    "outputId": "09c219fe-8def-4dbe-eb12-db1316e0e21b"
   },
   "outputs": [
    {
     "data": {
      "text/plain": [
       "(150, 6)"
      ]
     },
     "execution_count": 40,
     "metadata": {},
     "output_type": "execute_result"
    }
   ],
   "source": [
    "data.shape"
   ]
  },
  {
   "cell_type": "code",
   "execution_count": 41,
   "metadata": {
    "colab": {
     "base_uri": "https://localhost:8080/"
    },
    "executionInfo": {
     "elapsed": 29,
     "status": "ok",
     "timestamp": 1634202389823,
     "user": {
      "displayName": "Garima Chhikara",
      "photoUrl": "https://lh3.googleusercontent.com/a-/AOh14Ggi9Hv_sAnUzQlZnP_iuiVNwRUwQ6xA0rvVuOv1Og=s64",
      "userId": "04303712092160616729"
     },
     "user_tz": -330
    },
    "id": "t-qXUjG71DMV",
    "outputId": "61b6f0d6-4a27-4774-ab1c-e28c2f7972e7"
   },
   "outputs": [
    {
     "name": "stdout",
     "output_type": "stream",
     "text": [
      "(150, 4)\n",
      "(150,)\n"
     ]
    }
   ],
   "source": [
    "data = data.values\n",
    "X = data[:,1:5]\n",
    "Y = data[:,5]\n",
    "print(X.shape)\n",
    "print(Y.shape)"
   ]
  },
  {
   "cell_type": "markdown",
   "metadata": {
    "id": "LOCFunLo1F2l"
   },
   "source": [
    "## 1. Standardization"
   ]
  },
  {
   "cell_type": "code",
   "execution_count": 42,
   "metadata": {
    "executionInfo": {
     "elapsed": 28,
     "status": "ok",
     "timestamp": 1634202389824,
     "user": {
      "displayName": "Garima Chhikara",
      "photoUrl": "https://lh3.googleusercontent.com/a-/AOh14Ggi9Hv_sAnUzQlZnP_iuiVNwRUwQ6xA0rvVuOv1Og=s64",
      "userId": "04303712092160616729"
     },
     "user_tz": -330
    },
    "id": "YT_RihX01Gll"
   },
   "outputs": [],
   "source": [
    "from sklearn.preprocessing import StandardScaler"
   ]
  },
  {
   "cell_type": "code",
   "execution_count": 43,
   "metadata": {
    "executionInfo": {
     "elapsed": 27,
     "status": "ok",
     "timestamp": 1634202389824,
     "user": {
      "displayName": "Garima Chhikara",
      "photoUrl": "https://lh3.googleusercontent.com/a-/AOh14Ggi9Hv_sAnUzQlZnP_iuiVNwRUwQ6xA0rvVuOv1Og=s64",
      "userId": "04303712092160616729"
     },
     "user_tz": -330
    },
    "id": "KrvuZvW71UeL"
   },
   "outputs": [],
   "source": [
    "X_std = StandardScaler().fit_transform(X)"
   ]
  },
  {
   "cell_type": "markdown",
   "metadata": {
    "id": "ret4YjV81fCE"
   },
   "source": [
    "## 2. Covariance Matrix"
   ]
  },
  {
   "cell_type": "code",
   "execution_count": 44,
   "metadata": {
    "colab": {
     "base_uri": "https://localhost:8080/"
    },
    "executionInfo": {
     "elapsed": 52,
     "status": "ok",
     "timestamp": 1634202389850,
     "user": {
      "displayName": "Garima Chhikara",
      "photoUrl": "https://lh3.googleusercontent.com/a-/AOh14Ggi9Hv_sAnUzQlZnP_iuiVNwRUwQ6xA0rvVuOv1Og=s64",
      "userId": "04303712092160616729"
     },
     "user_tz": -330
    },
    "id": "EAX3uwHT1fvD",
    "outputId": "6b90707d-652e-47c8-c212-7faf6ad7bf08"
   },
   "outputs": [
    {
     "name": "stdout",
     "output_type": "stream",
     "text": [
      "(4, 4)\n"
     ]
    }
   ],
   "source": [
    "X_cov = np.cov(X_std.T)\n",
    "print(X_cov.shape)"
   ]
  },
  {
   "cell_type": "markdown",
   "metadata": {
    "id": "zUjejiKe1keS"
   },
   "source": [
    "## 3. Eigen Vectors"
   ]
  },
  {
   "cell_type": "code",
   "execution_count": 45,
   "metadata": {
    "colab": {
     "base_uri": "https://localhost:8080/"
    },
    "executionInfo": {
     "elapsed": 62,
     "status": "ok",
     "timestamp": 1634202389864,
     "user": {
      "displayName": "Garima Chhikara",
      "photoUrl": "https://lh3.googleusercontent.com/a-/AOh14Ggi9Hv_sAnUzQlZnP_iuiVNwRUwQ6xA0rvVuOv1Og=s64",
      "userId": "04303712092160616729"
     },
     "user_tz": -330
    },
    "id": "8tLqK9jM1lbB",
    "outputId": "2f9089f1-0739-41f4-d4bf-36144d0e4f20"
   },
   "outputs": [
    {
     "name": "stdout",
     "output_type": "stream",
     "text": [
      "[2.93035378 0.92740362 0.14834223 0.02074601]\n",
      "[[ 0.52237162 -0.37231836 -0.72101681  0.26199559]\n",
      " [-0.26335492 -0.92555649  0.24203288 -0.12413481]\n",
      " [ 0.58125401 -0.02109478  0.14089226 -0.80115427]\n",
      " [ 0.56561105 -0.06541577  0.6338014   0.52354627]]\n"
     ]
    }
   ],
   "source": [
    "evalue, evectors = np.linalg.eig(X_cov)\n",
    "\n",
    "print(evalue)\n",
    "print(evectors)\n"
   ]
  },
  {
   "cell_type": "code",
   "execution_count": 46,
   "metadata": {
    "colab": {
     "base_uri": "https://localhost:8080/"
    },
    "executionInfo": {
     "elapsed": 67,
     "status": "ok",
     "timestamp": 1634202389872,
     "user": {
      "displayName": "Garima Chhikara",
      "photoUrl": "https://lh3.googleusercontent.com/a-/AOh14Ggi9Hv_sAnUzQlZnP_iuiVNwRUwQ6xA0rvVuOv1Og=s64",
      "userId": "04303712092160616729"
     },
     "user_tz": -330
    },
    "id": "sB5ed36t9oc9",
    "outputId": "a5d09e3e-d2d6-492d-8b3e-77ec1601babc"
   },
   "outputs": [
    {
     "name": "stdout",
     "output_type": "stream",
     "text": [
      "[2.930353775589317, array([ 0.52237162, -0.26335492,  0.58125401,  0.56561105])]\n",
      "[0.9274036215173428, array([-0.37231836, -0.92555649, -0.02109478, -0.06541577])]\n",
      "[0.14834222648163967, array([-0.72101681,  0.24203288,  0.14089226,  0.6338014 ])]\n",
      "[0.020746013995595967, array([ 0.26199559, -0.12413481, -0.80115427,  0.52354627])]\n"
     ]
    }
   ],
   "source": [
    "# Create eigen pairs in which we have eigen vectors corresponding to eigen values\n",
    "epairs = []\n",
    "\n",
    "for i in range(len(evalue)) :\n",
    "  epairs.append( [evalue[i], evectors[:,i]] )\n",
    "\n",
    "# Sort the pairs on the basis of eigen values\n",
    "epairs.sort(reverse = True)\n",
    "\n",
    "for ep in epairs :\n",
    "  print(ep)\n"
   ]
  },
  {
   "cell_type": "code",
   "execution_count": 47,
   "metadata": {
    "colab": {
     "base_uri": "https://localhost:8080/"
    },
    "executionInfo": {
     "elapsed": 64,
     "status": "ok",
     "timestamp": 1634202389873,
     "user": {
      "displayName": "Garima Chhikara",
      "photoUrl": "https://lh3.googleusercontent.com/a-/AOh14Ggi9Hv_sAnUzQlZnP_iuiVNwRUwQ6xA0rvVuOv1Og=s64",
      "userId": "04303712092160616729"
     },
     "user_tz": -330
    },
    "id": "_-WzUmYM9of3",
    "outputId": "0501d853-4775-4cfa-947a-a05a2a7f113f"
   },
   "outputs": [
    {
     "name": "stdout",
     "output_type": "stream",
     "text": [
      "[[ 0.52237162 -0.37231836]\n",
      " [-0.26335492 -0.92555649]\n",
      " [ 0.58125401 -0.02109478]\n",
      " [ 0.56561105 -0.06541577]]\n"
     ]
    }
   ],
   "source": [
    "# Pick top k eigen vectors\n",
    "matrix = np.hstack ((epairs[0][1].reshape(4,1) , epairs[1][1].reshape(4,1)))\n",
    "print(matrix)"
   ]
  },
  {
   "cell_type": "code",
   "execution_count": 53,
   "metadata": {
    "colab": {
     "base_uri": "https://localhost:8080/"
    },
    "executionInfo": {
     "elapsed": 571,
     "status": "ok",
     "timestamp": 1634202657198,
     "user": {
      "displayName": "Garima Chhikara",
      "photoUrl": "https://lh3.googleusercontent.com/a-/AOh14Ggi9Hv_sAnUzQlZnP_iuiVNwRUwQ6xA0rvVuOv1Og=s64",
      "userId": "04303712092160616729"
     },
     "user_tz": -330
    },
    "id": "CwxZd1awC85Y",
    "outputId": "cfc4cce8-43b5-457a-ff19-72d4d1581280"
   },
   "outputs": [
    {
     "name": "stdout",
     "output_type": "stream",
     "text": [
      "[[-2.26454173 -0.5057039 ]\n",
      " [-2.0864255   0.65540473]\n",
      " [-2.36795045  0.31847731]\n",
      " [-2.30419716  0.57536771]\n",
      " [-2.38877749 -0.6747674 ]]\n"
     ]
    }
   ],
   "source": [
    "# Project the data points onto the new axis (evectors)\n",
    "new_dp =  X_std.dot(matrix)\n",
    "\n",
    "print(new_dp[0:5])"
   ]
  },
  {
   "cell_type": "code",
   "execution_count": 59,
   "metadata": {
    "colab": {
     "base_uri": "https://localhost:8080/",
     "height": 295
    },
    "executionInfo": {
     "elapsed": 1289,
     "status": "ok",
     "timestamp": 1634202900989,
     "user": {
      "displayName": "Garima Chhikara",
      "photoUrl": "https://lh3.googleusercontent.com/a-/AOh14Ggi9Hv_sAnUzQlZnP_iuiVNwRUwQ6xA0rvVuOv1Og=s64",
      "userId": "04303712092160616729"
     },
     "user_tz": -330
    },
    "id": "8p1w-qCQDgCy",
    "outputId": "2a8cb472-f333-4172-b6a5-c266e6b035b3"
   },
   "outputs": [
    {
     "data": {
      "image/png": "[encoded data removed]",
      "text/plain": [
       "<Figure size 432x288 with 1 Axes>"
      ]
     },
     "metadata": {
      "needs_background": "light"
     },
     "output_type": "display_data"
    }
   ],
   "source": [
    "# show the new data points on a graph\n",
    "for i in range(len(new_dp)) :\n",
    "\n",
    "  if Y[i] == 'Iris-setosa' :\n",
    "    plt.scatter( new_dp[i,0] , new_dp[i,1] , color = \"red\")\n",
    "\n",
    "  elif Y[i] == 'Iris-versicolor' :\n",
    "    plt.scatter( new_dp[i,0] , new_dp[i,1] , color = \"green\")\n",
    "\n",
    "  elif Y[i] == 'Iris-virginica' :\n",
    "    plt.scatter( new_dp[i,0] , new_dp[i,1] , color = \"blue\")\n",
    "\n",
    "plt.xlabel(\"PCA 1\")\n",
    "plt.ylabel(\"PCA 2\")\n",
    "plt.title(\"PCA for Iris Dataset\")\n",
    "plt.show()"
   ]
  },
  {
   "cell_type": "code",
   "execution_count": 56,
   "metadata": {
    "colab": {
     "base_uri": "https://localhost:8080/"
    },
    "executionInfo": {
     "elapsed": 378,
     "status": "ok",
     "timestamp": 1634202723172,
     "user": {
      "displayName": "Garima Chhikara",
      "photoUrl": "https://lh3.googleusercontent.com/a-/AOh14Ggi9Hv_sAnUzQlZnP_iuiVNwRUwQ6xA0rvVuOv1Og=s64",
      "userId": "04303712092160616729"
     },
     "user_tz": -330
    },
    "id": "ZnSi8M1iEYGZ",
    "outputId": "d19a85f2-8c8a-4e0f-a348-5ec516b2abbe"
   },
   "outputs": [
    {
     "name": "stdout",
     "output_type": "stream",
     "text": [
      "['Iris-setosa' 'Iris-versicolor' 'Iris-virginica']\n"
     ]
    }
   ],
   "source": [
    "print(np.unique(Y))"
   ]
  },
  {
   "cell_type": "markdown",
   "metadata": {
    "id": "Hv_6E1q4RwbC"
   },
   "source": [
    "# NAIVE BAYES CLASSIFIER"
   ]
  },
  {
   "cell_type": "code",
   "execution_count": 60,
   "metadata": {
    "executionInfo": {
     "elapsed": 416,
     "status": "ok",
     "timestamp": 1634206193140,
     "user": {
      "displayName": "Garima Chhikara",
      "photoUrl": "https://lh3.googleusercontent.com/a-/AOh14Ggi9Hv_sAnUzQlZnP_iuiVNwRUwQ6xA0rvVuOv1Og=s64",
      "userId": "04303712092160616729"
     },
     "user_tz": -330
    },
    "id": "-VpZ-SXkRyBu"
   },
   "outputs": [],
   "source": [
    "import numpy as np\n",
    "import pandas as pd"
   ]
  },
  {
   "cell_type": "markdown",
   "metadata": {
    "id": "w-K4kV-tSb9B"
   },
   "source": [
    "## Load the Data"
   ]
  },
  {
   "cell_type": "code",
   "execution_count": 61,
   "metadata": {
    "colab": {
     "base_uri": "https://localhost:8080/",
     "height": 274
    },
    "executionInfo": {
     "elapsed": 489,
     "status": "ok",
     "timestamp": 1634206218179,
     "user": {
      "displayName": "Garima Chhikara",
      "photoUrl": "https://lh3.googleusercontent.com/a-/AOh14Ggi9Hv_sAnUzQlZnP_iuiVNwRUwQ6xA0rvVuOv1Og=s64",
      "userId": "04303712092160616729"
     },
     "user_tz": -330
    },
    "id": "HNBScbodR5Ho",
    "outputId": "5e7c2334-8884-4685-e708-97e41d8808ba"
   },
   "outputs": [
    {
     "data": {
      "text/html": [
       "<div>\n",
       "<style scoped>\n",
       "    .dataframe tbody tr th:only-of-type {\n",
       "        vertical-align: middle;\n",
       "    }\n",
       "\n",
       "    .dataframe tbody tr th {\n",
       "        vertical-align: top;\n",
       "    }\n",
       "\n",
       "    .dataframe thead th {\n",
       "        text-align: right;\n",
       "    }\n",
       "</style>\n",
       "<table border=\"1\" class=\"dataframe\">\n",
       "  <thead>\n",
       "    <tr style=\"text-align: right;\">\n",
       "      <th></th>\n",
       "      <th>class</th>\n",
       "      <th>cap-shape</th>\n",
       "      <th>cap-surface</th>\n",
       "      <th>cap-color</th>\n",
       "      <th>bruises</th>\n",
       "      <th>odor</th>\n",
       "      <th>gill-attachment</th>\n",
       "      <th>gill-spacing</th>\n",
       "      <th>gill-size</th>\n",
       "      <th>gill-color</th>\n",
       "      <th>stalk-shape</th>\n",
       "      <th>stalk-root</th>\n",
       "      <th>stalk-surface-above-ring</th>\n",
       "      <th>stalk-surface-below-ring</th>\n",
       "      <th>stalk-color-above-ring</th>\n",
       "      <th>stalk-color-below-ring</th>\n",
       "      <th>veil-type</th>\n",
       "      <th>veil-color</th>\n",
       "      <th>ring-number</th>\n",
       "      <th>ring-type</th>\n",
       "      <th>spore-print-color</th>\n",
       "      <th>population</th>\n",
       "      <th>habitat</th>\n",
       "    </tr>\n",
       "  </thead>\n",
       "  <tbody>\n",
       "    <tr>\n",
       "      <th>0</th>\n",
       "      <td>p</td>\n",
       "      <td>x</td>\n",
       "      <td>s</td>\n",
       "      <td>n</td>\n",
       "      <td>t</td>\n",
       "      <td>p</td>\n",
       "      <td>f</td>\n",
       "      <td>c</td>\n",
       "      <td>n</td>\n",
       "      <td>k</td>\n",
       "      <td>e</td>\n",
       "      <td>e</td>\n",
       "      <td>s</td>\n",
       "      <td>s</td>\n",
       "      <td>w</td>\n",
       "      <td>w</td>\n",
       "      <td>p</td>\n",
       "      <td>w</td>\n",
       "      <td>o</td>\n",
       "      <td>p</td>\n",
       "      <td>k</td>\n",
       "      <td>s</td>\n",
       "      <td>u</td>\n",
       "    </tr>\n",
       "    <tr>\n",
       "      <th>1</th>\n",
       "      <td>e</td>\n",
       "      <td>x</td>\n",
       "      <td>s</td>\n",
       "      <td>y</td>\n",
       "      <td>t</td>\n",
       "      <td>a</td>\n",
       "      <td>f</td>\n",
       "      <td>c</td>\n",
       "      <td>b</td>\n",
       "      <td>k</td>\n",
       "      <td>e</td>\n",
       "      <td>c</td>\n",
       "      <td>s</td>\n",
       "      <td>s</td>\n",
       "      <td>w</td>\n",
       "      <td>w</td>\n",
       "      <td>p</td>\n",
       "      <td>w</td>\n",
       "      <td>o</td>\n",
       "      <td>p</td>\n",
       "      <td>n</td>\n",
       "      <td>n</td>\n",
       "      <td>g</td>\n",
       "    </tr>\n",
       "    <tr>\n",
       "      <th>2</th>\n",
       "      <td>e</td>\n",
       "      <td>b</td>\n",
       "      <td>s</td>\n",
       "      <td>w</td>\n",
       "      <td>t</td>\n",
       "      <td>l</td>\n",
       "      <td>f</td>\n",
       "      <td>c</td>\n",
       "      <td>b</td>\n",
       "      <td>n</td>\n",
       "      <td>e</td>\n",
       "      <td>c</td>\n",
       "      <td>s</td>\n",
       "      <td>s</td>\n",
       "      <td>w</td>\n",
       "      <td>w</td>\n",
       "      <td>p</td>\n",
       "      <td>w</td>\n",
       "      <td>o</td>\n",
       "      <td>p</td>\n",
       "      <td>n</td>\n",
       "      <td>n</td>\n",
       "      <td>m</td>\n",
       "    </tr>\n",
       "    <tr>\n",
       "      <th>3</th>\n",
       "      <td>p</td>\n",
       "      <td>x</td>\n",
       "      <td>y</td>\n",
       "      <td>w</td>\n",
       "      <td>t</td>\n",
       "      <td>p</td>\n",
       "      <td>f</td>\n",
       "      <td>c</td>\n",
       "      <td>n</td>\n",
       "      <td>n</td>\n",
       "      <td>e</td>\n",
       "      <td>e</td>\n",
       "      <td>s</td>\n",
       "      <td>s</td>\n",
       "      <td>w</td>\n",
       "      <td>w</td>\n",
       "      <td>p</td>\n",
       "      <td>w</td>\n",
       "      <td>o</td>\n",
       "      <td>p</td>\n",
       "      <td>k</td>\n",
       "      <td>s</td>\n",
       "      <td>u</td>\n",
       "    </tr>\n",
       "    <tr>\n",
       "      <th>4</th>\n",
       "      <td>e</td>\n",
       "      <td>x</td>\n",
       "      <td>s</td>\n",
       "      <td>g</td>\n",
       "      <td>f</td>\n",
       "      <td>n</td>\n",
       "      <td>f</td>\n",
       "      <td>w</td>\n",
       "      <td>b</td>\n",
       "      <td>k</td>\n",
       "      <td>t</td>\n",
       "      <td>e</td>\n",
       "      <td>s</td>\n",
       "      <td>s</td>\n",
       "      <td>w</td>\n",
       "      <td>w</td>\n",
       "      <td>p</td>\n",
       "      <td>w</td>\n",
       "      <td>o</td>\n",
       "      <td>e</td>\n",
       "      <td>n</td>\n",
       "      <td>a</td>\n",
       "      <td>g</td>\n",
       "    </tr>\n",
       "  </tbody>\n",
       "</table>\n",
       "</div>"
      ],
      "text/plain": [
       "  class cap-shape cap-surface  ... spore-print-color population habitat\n",
       "0     p         x           s  ...                 k          s       u\n",
       "1     e         x           s  ...                 n          n       g\n",
       "2     e         b           s  ...                 n          n       m\n",
       "3     p         x           y  ...                 k          s       u\n",
       "4     e         x           s  ...                 n          a       g\n",
       "\n",
       "[5 rows x 23 columns]"
      ]
     },
     "execution_count": 61,
     "metadata": {},
     "output_type": "execute_result"
    }
   ],
   "source": [
    "df = pd.read_csv(\"https://raw.githubusercontent.com/garimachhikara128/DTU-ML-Lab-C4-G2/master/TrainingData/mushrooms.csv\")\n",
    "df.head()"
   ]
  },
  {
   "cell_type": "code",
   "execution_count": 62,
   "metadata": {
    "colab": {
     "base_uri": "https://localhost:8080/"
    },
    "executionInfo": {
     "elapsed": 453,
     "status": "ok",
     "timestamp": 1634206278361,
     "user": {
      "displayName": "Garima Chhikara",
      "photoUrl": "https://lh3.googleusercontent.com/a-/AOh14Ggi9Hv_sAnUzQlZnP_iuiVNwRUwQ6xA0rvVuOv1Og=s64",
      "userId": "04303712092160616729"
     },
     "user_tz": -330
    },
    "id": "SGE4Vyp7R_DU",
    "outputId": "2fde8bfd-14cb-4b51-adac-a3a21aeab411"
   },
   "outputs": [
    {
     "name": "stdout",
     "output_type": "stream",
     "text": [
      "(8124, 23)\n"
     ]
    }
   ],
   "source": [
    "print(df.shape)"
   ]
  },
  {
   "cell_type": "markdown",
   "metadata": {
    "id": "-pEzn_ojShsB"
   },
   "source": [
    "## Convert Categorical Data to Numerical Data"
   ]
  },
  {
   "cell_type": "code",
   "execution_count": 64,
   "metadata": {
    "executionInfo": {
     "elapsed": 419,
     "status": "ok",
     "timestamp": 1634206435881,
     "user": {
      "displayName": "Garima Chhikara",
      "photoUrl": "https://lh3.googleusercontent.com/a-/AOh14Ggi9Hv_sAnUzQlZnP_iuiVNwRUwQ6xA0rvVuOv1Og=s64",
      "userId": "04303712092160616729"
     },
     "user_tz": -330
    },
    "id": "E2DJfG_RSoFT"
   },
   "outputs": [],
   "source": [
    "from sklearn.preprocessing import LabelEncoder\n",
    "from sklearn.model_selection import train_test_split"
   ]
  },
  {
   "cell_type": "code",
   "execution_count": 66,
   "metadata": {
    "colab": {
     "base_uri": "https://localhost:8080/",
     "height": 290
    },
    "executionInfo": {
     "elapsed": 390,
     "status": "ok",
     "timestamp": 1634206531750,
     "user": {
      "displayName": "Garima Chhikara",
      "photoUrl": "https://lh3.googleusercontent.com/a-/AOh14Ggi9Hv_sAnUzQlZnP_iuiVNwRUwQ6xA0rvVuOv1Og=s64",
      "userId": "04303712092160616729"
     },
     "user_tz": -330
    },
    "id": "XdfohZ8OS0YF",
    "outputId": "79eef277-9bbc-4e6e-9383-ec693911cad0"
   },
   "outputs": [
    {
     "name": "stdout",
     "output_type": "stream",
     "text": [
      "<class 'pandas.core.frame.DataFrame'>\n"
     ]
    },
    {
     "data": {
      "text/html": [
       "<div>\n",
       "<style scoped>\n",
       "    .dataframe tbody tr th:only-of-type {\n",
       "        vertical-align: middle;\n",
       "    }\n",
       "\n",
       "    .dataframe tbody tr th {\n",
       "        vertical-align: top;\n",
       "    }\n",
       "\n",
       "    .dataframe thead th {\n",
       "        text-align: right;\n",
       "    }\n",
       "</style>\n",
       "<table border=\"1\" class=\"dataframe\">\n",
       "  <thead>\n",
       "    <tr style=\"text-align: right;\">\n",
       "      <th></th>\n",
       "      <th>class</th>\n",
       "      <th>cap-shape</th>\n",
       "      <th>cap-surface</th>\n",
       "      <th>cap-color</th>\n",
       "      <th>bruises</th>\n",
       "      <th>odor</th>\n",
       "      <th>gill-attachment</th>\n",
       "      <th>gill-spacing</th>\n",
       "      <th>gill-size</th>\n",
       "      <th>gill-color</th>\n",
       "      <th>stalk-shape</th>\n",
       "      <th>stalk-root</th>\n",
       "      <th>stalk-surface-above-ring</th>\n",
       "      <th>stalk-surface-below-ring</th>\n",
       "      <th>stalk-color-above-ring</th>\n",
       "      <th>stalk-color-below-ring</th>\n",
       "      <th>veil-type</th>\n",
       "      <th>veil-color</th>\n",
       "      <th>ring-number</th>\n",
       "      <th>ring-type</th>\n",
       "      <th>spore-print-color</th>\n",
       "      <th>population</th>\n",
       "      <th>habitat</th>\n",
       "    </tr>\n",
       "  </thead>\n",
       "  <tbody>\n",
       "    <tr>\n",
       "      <th>0</th>\n",
       "      <td>1</td>\n",
       "      <td>5</td>\n",
       "      <td>2</td>\n",
       "      <td>4</td>\n",
       "      <td>1</td>\n",
       "      <td>6</td>\n",
       "      <td>1</td>\n",
       "      <td>0</td>\n",
       "      <td>1</td>\n",
       "      <td>4</td>\n",
       "      <td>0</td>\n",
       "      <td>3</td>\n",
       "      <td>2</td>\n",
       "      <td>2</td>\n",
       "      <td>7</td>\n",
       "      <td>7</td>\n",
       "      <td>0</td>\n",
       "      <td>2</td>\n",
       "      <td>1</td>\n",
       "      <td>4</td>\n",
       "      <td>2</td>\n",
       "      <td>3</td>\n",
       "      <td>5</td>\n",
       "    </tr>\n",
       "    <tr>\n",
       "      <th>1</th>\n",
       "      <td>0</td>\n",
       "      <td>5</td>\n",
       "      <td>2</td>\n",
       "      <td>9</td>\n",
       "      <td>1</td>\n",
       "      <td>0</td>\n",
       "      <td>1</td>\n",
       "      <td>0</td>\n",
       "      <td>0</td>\n",
       "      <td>4</td>\n",
       "      <td>0</td>\n",
       "      <td>2</td>\n",
       "      <td>2</td>\n",
       "      <td>2</td>\n",
       "      <td>7</td>\n",
       "      <td>7</td>\n",
       "      <td>0</td>\n",
       "      <td>2</td>\n",
       "      <td>1</td>\n",
       "      <td>4</td>\n",
       "      <td>3</td>\n",
       "      <td>2</td>\n",
       "      <td>1</td>\n",
       "    </tr>\n",
       "    <tr>\n",
       "      <th>2</th>\n",
       "      <td>0</td>\n",
       "      <td>0</td>\n",
       "      <td>2</td>\n",
       "      <td>8</td>\n",
       "      <td>1</td>\n",
       "      <td>3</td>\n",
       "      <td>1</td>\n",
       "      <td>0</td>\n",
       "      <td>0</td>\n",
       "      <td>5</td>\n",
       "      <td>0</td>\n",
       "      <td>2</td>\n",
       "      <td>2</td>\n",
       "      <td>2</td>\n",
       "      <td>7</td>\n",
       "      <td>7</td>\n",
       "      <td>0</td>\n",
       "      <td>2</td>\n",
       "      <td>1</td>\n",
       "      <td>4</td>\n",
       "      <td>3</td>\n",
       "      <td>2</td>\n",
       "      <td>3</td>\n",
       "    </tr>\n",
       "    <tr>\n",
       "      <th>3</th>\n",
       "      <td>1</td>\n",
       "      <td>5</td>\n",
       "      <td>3</td>\n",
       "      <td>8</td>\n",
       "      <td>1</td>\n",
       "      <td>6</td>\n",
       "      <td>1</td>\n",
       "      <td>0</td>\n",
       "      <td>1</td>\n",
       "      <td>5</td>\n",
       "      <td>0</td>\n",
       "      <td>3</td>\n",
       "      <td>2</td>\n",
       "      <td>2</td>\n",
       "      <td>7</td>\n",
       "      <td>7</td>\n",
       "      <td>0</td>\n",
       "      <td>2</td>\n",
       "      <td>1</td>\n",
       "      <td>4</td>\n",
       "      <td>2</td>\n",
       "      <td>3</td>\n",
       "      <td>5</td>\n",
       "    </tr>\n",
       "    <tr>\n",
       "      <th>4</th>\n",
       "      <td>0</td>\n",
       "      <td>5</td>\n",
       "      <td>2</td>\n",
       "      <td>3</td>\n",
       "      <td>0</td>\n",
       "      <td>5</td>\n",
       "      <td>1</td>\n",
       "      <td>1</td>\n",
       "      <td>0</td>\n",
       "      <td>4</td>\n",
       "      <td>1</td>\n",
       "      <td>3</td>\n",
       "      <td>2</td>\n",
       "      <td>2</td>\n",
       "      <td>7</td>\n",
       "      <td>7</td>\n",
       "      <td>0</td>\n",
       "      <td>2</td>\n",
       "      <td>1</td>\n",
       "      <td>0</td>\n",
       "      <td>3</td>\n",
       "      <td>0</td>\n",
       "      <td>1</td>\n",
       "    </tr>\n",
       "  </tbody>\n",
       "</table>\n",
       "</div>"
      ],
      "text/plain": [
       "   class  cap-shape  cap-surface  ...  spore-print-color  population  habitat\n",
       "0      1          5            2  ...                  2           3        5\n",
       "1      0          5            2  ...                  3           2        1\n",
       "2      0          0            2  ...                  3           2        3\n",
       "3      1          5            3  ...                  2           3        5\n",
       "4      0          5            2  ...                  3           0        1\n",
       "\n",
       "[5 rows x 23 columns]"
      ]
     },
     "execution_count": 66,
     "metadata": {},
     "output_type": "execute_result"
    }
   ],
   "source": [
    "le = LabelEncoder()\n",
    "nd = df.apply(le.fit_transform)\n",
    "print(type(nd))\n",
    "nd.head()"
   ]
  },
  {
   "cell_type": "code",
   "execution_count": 69,
   "metadata": {
    "colab": {
     "base_uri": "https://localhost:8080/"
    },
    "executionInfo": {
     "elapsed": 382,
     "status": "ok",
     "timestamp": 1634206626088,
     "user": {
      "displayName": "Garima Chhikara",
      "photoUrl": "https://lh3.googleusercontent.com/a-/AOh14Ggi9Hv_sAnUzQlZnP_iuiVNwRUwQ6xA0rvVuOv1Og=s64",
      "userId": "04303712092160616729"
     },
     "user_tz": -330
    },
    "id": "pkgnl4spTB3f",
    "outputId": "18e354ad-cd62-41ff-bf23-cc89269fc309"
   },
   "outputs": [
    {
     "name": "stdout",
     "output_type": "stream",
     "text": [
      "(8124, 23)\n",
      "<class 'numpy.ndarray'>\n"
     ]
    }
   ],
   "source": [
    "# Convert pandas dataframe to numpy array\n",
    "data = nd.values\n",
    "print(data.shape)\n",
    "print(type(data))"
   ]
  },
  {
   "cell_type": "code",
   "execution_count": 70,
   "metadata": {
    "colab": {
     "base_uri": "https://localhost:8080/"
    },
    "executionInfo": {
     "elapsed": 363,
     "status": "ok",
     "timestamp": 1634206719936,
     "user": {
      "displayName": "Garima Chhikara",
      "photoUrl": "https://lh3.googleusercontent.com/a-/AOh14Ggi9Hv_sAnUzQlZnP_iuiVNwRUwQ6xA0rvVuOv1Og=s64",
      "userId": "04303712092160616729"
     },
     "user_tz": -330
    },
    "id": "4P_d0QQwTafJ",
    "outputId": "59729e6c-e584-4bd6-b859-93b2eb9d5d99"
   },
   "outputs": [
    {
     "name": "stdout",
     "output_type": "stream",
     "text": [
      "(8124,)\n",
      "(8124, 22)\n"
     ]
    }
   ],
   "source": [
    "Y = data[:,0]\n",
    "X = data[:,1:]\n",
    "\n",
    "print(Y.shape)\n",
    "print(X.shape)"
   ]
  },
  {
   "cell_type": "code",
   "execution_count": null,
   "metadata": {},
   "outputs": [],
   "source": [
    "Divid"
   ]
  },
  {
   "cell_type": "code",
   "execution_count": 72,
   "metadata": {
    "colab": {
     "base_uri": "https://localhost:8080/"
    },
    "executionInfo": {
     "elapsed": 370,
     "status": "ok",
     "timestamp": 1634206914648,
     "user": {
      "displayName": "Garima Chhikara",
      "photoUrl": "https://lh3.googleusercontent.com/a-/AOh14Ggi9Hv_sAnUzQlZnP_iuiVNwRUwQ6xA0rvVuOv1Og=s64",
      "userId": "04303712092160616729"
     },
     "user_tz": -330
    },
    "id": "Xt39tUt2T5qk",
    "outputId": "72ff1511-72ce-41e5-9f6b-6438c52bfcb5"
   },
   "outputs": [
    {
     "name": "stdout",
     "output_type": "stream",
     "text": [
      "(6499, 22) (6499,)\n",
      "(1625, 22) (1625,)\n"
     ]
    }
   ],
   "source": [
    "# Break the data into 2 parts : training data & testing data\n",
    "x_train, x_test, y_train, y_test = train_test_split(X,Y,test_size = 0.2)\n",
    "print(x_train.shape, y_train.shape)\n",
    "print(x_test.shape, y_test.shape)"
   ]
  },
  {
   "cell_type": "code",
   "execution_count": null,
   "metadata": {
    "id": "q-jBgNfbUi8H"
   },
   "outputs": [],
   "source": []
  }
 ],
 "metadata": {
  "colab": {
   "authorship_tag": "ABX9TyNTRkXnLtgs+XpC49Li3/TD",
   "name": "Lab9 14Oct2021.ipynb",
   "provenance": []
  },
  "kernelspec": {
   "display_name": "Python 3 (ipykernel)",
   "language": "python",
   "name": "python3"
  },
  "language_info": {
   "codemirror_mode": {
    "name": "ipython",
    "version": 3
   },
   "file_extension": ".py",
   "mimetype": "text/x-python",
   "name": "python",
   "nbconvert_exporter": "python",
   "pygments_lexer": "ipython3",
   "version": "3.10.0"
  }
 },
 "nbformat": 4,
 "nbformat_minor": 1
}
