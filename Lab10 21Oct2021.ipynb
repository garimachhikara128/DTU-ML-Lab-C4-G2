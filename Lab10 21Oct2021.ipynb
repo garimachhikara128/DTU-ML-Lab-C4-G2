{
 "cells": [
  {
   "cell_type": "markdown",
   "id": "63849feb",
   "metadata": {},
   "source": [
    "# K MEANS CLUSTERING ALGO"
   ]
  },
  {
   "cell_type": "markdown",
   "id": "dbd89285",
   "metadata": {},
   "source": [
    "### Data Preparation"
   ]
  },
  {
   "cell_type": "code",
   "execution_count": 52,
   "id": "5e683dec",
   "metadata": {},
   "outputs": [],
   "source": [
    "import numpy as np\n",
    "import matplotlib.pyplot as plt\n",
    "from sklearn.datasets import make_blobs"
   ]
  },
  {
   "cell_type": "code",
   "execution_count": 53,
   "id": "759e0ee7",
   "metadata": {},
   "outputs": [
    {
     "data": {
      "image/png": "[encoded data removed]",
      "text/plain": [
       "<Figure size 432x288 with 1 Axes>"
      ]
     },
     "metadata": {
      "needs_background": "light"
     },
     "output_type": "display_data"
    }
   ],
   "source": [
    "X,Y = make_blobs(n_samples = 500, n_features = 2, centers = 5, random_state = 3)\n",
    "plt.scatter(X[:,0],X[:,1])\n",
    "plt.show()"
   ]
  },
  {
   "cell_type": "code",
   "execution_count": null,
   "id": "d561037f",
   "metadata": {},
   "outputs": [],
   "source": []
  },
  {
   "cell_type": "markdown",
   "id": "5cab6c9c",
   "metadata": {},
   "source": [
    "### Step 1 : Initialize the center points of each cluster"
   ]
  },
  {
   "cell_type": "code",
   "execution_count": 54,
   "id": "d5d5817f",
   "metadata": {},
   "outputs": [],
   "source": [
    "k = 5\n",
    "color = [\"green\",\"red\",\"blue\",\"yellow\",\"orange\"]\n",
    "\n",
    "# dict for storing info of every cluster\n",
    "clusters = {} \n",
    "\n",
    "# go to every cluster\n",
    "# i -> present cluster\n",
    "for i in range(k) :\n",
    "    \n",
    "    center = 10 * (2 * np.random.random(X.shape[1]) - 1) \n",
    "    points = []\n",
    "    \n",
    "    cluster = {\n",
    "        'center' : center,\n",
    "        'points' : points,\n",
    "        'color' : color[i]\n",
    "    }\n",
    "    \n",
    "    clusters[i] = cluster"
   ]
  },
  {
   "cell_type": "code",
   "execution_count": 55,
   "id": "730aeedd",
   "metadata": {},
   "outputs": [
    {
     "data": {
      "text/plain": [
       "{0: {'center': array([-6.48022947,  7.05964939]),\n",
       "  'points': [],\n",
       "  'color': 'green'},\n",
       " 1: {'center': array([ 4.70666047, -9.84046569]),\n",
       "  'points': [],\n",
       "  'color': 'red'},\n",
       " 2: {'center': array([5.90919281, 3.92889578]), 'points': [], 'color': 'blue'},\n",
       " 3: {'center': array([7.22706957, 6.70577154]),\n",
       "  'points': [],\n",
       "  'color': 'yellow'},\n",
       " 4: {'center': array([-0.45982021,  9.91623091]),\n",
       "  'points': [],\n",
       "  'color': 'orange'}}"
      ]
     },
     "execution_count": 55,
     "metadata": {},
     "output_type": "execute_result"
    }
   ],
   "source": [
    "clusters"
   ]
  },
  {
   "cell_type": "markdown",
   "id": "a1901383",
   "metadata": {},
   "source": [
    "### Step 2 : Every customer will be assigned a pizza outlet"
   ]
  },
  {
   "cell_type": "code",
   "execution_count": 56,
   "id": "deb0070d",
   "metadata": {},
   "outputs": [],
   "source": [
    "def distance(p1, p2) :\n",
    "    return np.sqrt(np.sum((p1 - p2)**2))\n",
    "\n",
    "def assignPointToClusters(clusters) :\n",
    "    \n",
    "    m = X.shape[0]\n",
    "    \n",
    "    for i in range(m) :\n",
    "        \n",
    "        current_point = X[i]\n",
    "        dist_list = []\n",
    "        \n",
    "        for pc in range(k) :\n",
    "            \n",
    "            d = distance(current_point, clusters[pc]['center'])\n",
    "            dist_list.append(d)\n",
    "            \n",
    "        closest_cluster = np.argmin(dist_list)\n",
    "    \n",
    "        clusters[closest_cluster]['points'].append(current_point)\n",
    "        \n",
    "def plotClusters(clusters) :\n",
    "    \n",
    "    for pc in range(k) :\n",
    "        \n",
    "        pts = np.array(clusters[pc]['points'])    \n",
    "        plt.scatter(pts[:,0], pts[:,1], color = clusters[pc]['color'])\n",
    "        \n",
    "        u = clusters[pc]['center']\n",
    "        plt.scatter(u[0], u[1], color = \"black\", marker = '*')\n",
    "        \n",
    "def updateClusterCenter(clusters) :\n",
    "    \n",
    "    for pc in range(k) :\n",
    "        pts = np.array(clusters[pc]['points'])    \n",
    "        \n",
    "        if pts.shape[0] > 0 :\n",
    "            new_u = pts.mean(axis=0)\n",
    "            clusters[pc]['center'] = new_u\n",
    "            clusters[pc]['points'] = []\n",
    "            "
   ]
  },
  {
   "cell_type": "code",
   "execution_count": 57,
   "id": "b9acb4ae",
   "metadata": {},
   "outputs": [
    {
     "data": {
      "image/png": "[encoded data removed]",
      "text/plain": [
       "<Figure size 432x288 with 1 Axes>"
      ]
     },
     "metadata": {
      "needs_background": "light"
     },
     "output_type": "display_data"
    }
   ],
   "source": [
    "assignPointToClusters(clusters)\n",
    "plotClusters(clusters)"
   ]
  },
  {
   "cell_type": "code",
   "execution_count": 64,
   "id": "f1f91ef4",
   "metadata": {},
   "outputs": [
    {
     "data": {
      "image/png": "[encoded data removed]",
      "text/plain": [
       "<Figure size 432x288 with 1 Axes>"
      ]
     },
     "metadata": {
      "needs_background": "light"
     },
     "output_type": "display_data"
    }
   ],
   "source": [
    "assignPointToClusters(clusters)\n",
    "plotClusters(clusters)\n",
    "updateClusterCenter(clusters)"
   ]
  },
  {
   "cell_type": "code",
   "execution_count": null,
   "id": "b8f35ce0",
   "metadata": {},
   "outputs": [],
   "source": []
  },
  {
   "cell_type": "code",
   "execution_count": null,
   "id": "26ec0476",
   "metadata": {},
   "outputs": [],
   "source": []
  }
 ],
 "metadata": {
  "kernelspec": {
   "display_name": "Python 3 (ipykernel)",
   "language": "python",
   "name": "python3"
  },
  "language_info": {
   "codemirror_mode": {
    "name": "ipython",
    "version": 3
   },
   "file_extension": ".py",
   "mimetype": "text/x-python",
   "name": "python",
   "nbconvert_exporter": "python",
   "pygments_lexer": "ipython3",
   "version": "3.8.9"
  }
 },
 "nbformat": 4,
 "nbformat_minor": 5
}
