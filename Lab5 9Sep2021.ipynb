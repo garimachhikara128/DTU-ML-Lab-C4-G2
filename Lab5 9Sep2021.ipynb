{
 "cells": [
  {
   "cell_type": "code",
   "execution_count": 1,
   "id": "cca1374f",
   "metadata": {},
   "outputs": [],
   "source": [
    "import numpy as np\n",
    "import matplotlib.pyplot as plt\n",
    "import pandas as pd"
   ]
  },
  {
   "cell_type": "markdown",
   "id": "aaf02fff",
   "metadata": {},
   "source": [
    "### Read the data"
   ]
  },
  {
   "cell_type": "code",
   "execution_count": 11,
   "id": "8b733597",
   "metadata": {},
   "outputs": [
    {
     "name": "stdout",
     "output_type": "stream",
     "text": [
      "(506, 13)\n",
      "(506,)\n"
     ]
    }
   ],
   "source": [
    "data = pd.read_csv('./TrainingData/housing.csv', header=None, delimiter=\"\\s+\")\n",
    "data = data.values\n",
    "X = data[:, :13]\n",
    "Y = data[:,13]\n",
    "print(X.shape)\n",
    "print(Y.shape)"
   ]
  },
  {
   "cell_type": "markdown",
   "id": "0c715885",
   "metadata": {},
   "source": [
    "### Normalization"
   ]
  },
  {
   "cell_type": "code",
   "execution_count": 12,
   "id": "f97ae523",
   "metadata": {},
   "outputs": [
    {
     "name": "stdout",
     "output_type": "stream",
     "text": [
      "(13,) (13,)\n"
     ]
    }
   ],
   "source": [
    "u = np.mean(X,axis=0)\n",
    "std = np.std(X,axis=0)\n",
    "print(u.shape, std.shape)\n",
    "X = (X-u)/ std"
   ]
  },
  {
   "cell_type": "code",
   "execution_count": 13,
   "id": "c7558b5d",
   "metadata": {},
   "outputs": [
    {
     "data": {
      "text/plain": [
       "<matplotlib.collections.PathCollection at 0x1203d4b20>"
      ]
     },
     "execution_count": 13,
     "metadata": {},
     "output_type": "execute_result"
    },
    {
     "data": {
      "image/png": "[encoded data removed]",
      "text/plain": [
       "<Figure size 576x396 with 1 Axes>"
      ]
     },
     "metadata": {},
     "output_type": "display_data"
    }
   ],
   "source": [
    "plt.style.use('seaborn')\n",
    "plt.scatter(X[:,5],Y)"
   ]
  },
  {
   "cell_type": "markdown",
   "id": "5471544b",
   "metadata": {},
   "source": [
    "### Add X0 to X"
   ]
  },
  {
   "cell_type": "code",
   "execution_count": 14,
   "id": "e011a512",
   "metadata": {},
   "outputs": [
    {
     "name": "stdout",
     "output_type": "stream",
     "text": [
      "(506, 14)\n"
     ]
    }
   ],
   "source": [
    "ones = np.ones((X.shape[0],1))\n",
    "X = np.hstack((ones,X))\n",
    "print(X.shape)"
   ]
  },
  {
   "cell_type": "code",
   "execution_count": 15,
   "id": "5d8a14c1",
   "metadata": {},
   "outputs": [
    {
     "name": "stdout",
     "output_type": "stream",
     "text": [
      "[[ 1.         -0.41978194  0.28482986 ... -1.45900038  0.44105193\n",
      "  -1.0755623 ]\n",
      " [ 1.         -0.41733926 -0.48772236 ... -0.30309415  0.44105193\n",
      "  -0.49243937]\n",
      " [ 1.         -0.41734159 -0.48772236 ... -0.30309415  0.39642699\n",
      "  -1.2087274 ]\n",
      " ...\n",
      " [ 1.         -0.41344658 -0.48772236 ...  1.17646583  0.44105193\n",
      "  -0.98304761]\n",
      " [ 1.         -0.40776407 -0.48772236 ...  1.17646583  0.4032249\n",
      "  -0.86530163]\n",
      " [ 1.         -0.41500016 -0.48772236 ...  1.17646583  0.44105193\n",
      "  -0.66905833]]\n"
     ]
    }
   ],
   "source": [
    "print(X)"
   ]
  },
  {
   "cell_type": "code",
   "execution_count": 19,
   "id": "4eca5a0e",
   "metadata": {},
   "outputs": [],
   "source": [
    "def hypothesis(x,theta) :\n",
    "    n = x.shape[0]\n",
    "    y_ = 0\n",
    "    \n",
    "    for i in range(n) :\n",
    "        y_ += theta[i] * x[i]\n",
    "        \n",
    "    return y_\n",
    "        \n",
    "def error(X,Y,theta) :\n",
    "    \n",
    "    e = 0.0\n",
    "    m = X.shape[0]\n",
    "    \n",
    "    for i in range(m) :\n",
    "        y = Y[i]\n",
    "        y_ = hypothesis(X[i],theta)\n",
    "        \n",
    "        e += (y - y_) ** 2\n",
    "        \n",
    "    return e / m\n",
    "\n",
    "def gradient(X,Y,theta) :\n",
    "    \n",
    "    m,n = X.shape\n",
    "    grad = np.zeros((n,))\n",
    "    \n",
    "    for j in range(n) :\n",
    "        \n",
    "        res = 0.0\n",
    "        for i in range(m) :\n",
    "            \n",
    "            y = Y[i]\n",
    "            y_ = hypothesis(X[i],theta)\n",
    "            \n",
    "            res += (y_ - y)*X[i][j]\n",
    "            \n",
    "        grad[j] = res\n",
    "        \n",
    "    return grad/m\n",
    "\n",
    "def gradient_descent(X,Y,lr=0.1,max_epoch=300) :\n",
    "    \n",
    "    m,n = X.shape\n",
    "    theta = np.zeros((n,))\n",
    "    error_list = []\n",
    "    \n",
    "    for i in range(max_epoch) :\n",
    "        \n",
    "        e = error(X,Y,theta)\n",
    "        error_list.append(e)\n",
    "        \n",
    "        grad = gradient(X,Y,theta) \n",
    "        \n",
    "        for j in range(n) :\n",
    "            theta[j] = theta[j] - lr * grad[j]\n",
    "    \n",
    "    \n",
    "    \n",
    "    return theta, error_list"
   ]
  },
  {
   "cell_type": "markdown",
   "id": "8ebc8504",
   "metadata": {},
   "source": [
    "### Obtain theta "
   ]
  },
  {
   "cell_type": "code",
   "execution_count": 21,
   "id": "d6c9be00",
   "metadata": {},
   "outputs": [
    {
     "name": "stdout",
     "output_type": "stream",
     "text": [
      "[ 2.25328063e+01 -9.03091692e-01  1.03815625e+00  1.53477685e-02\n",
      "  6.99554920e-01 -2.02101672e+00  2.70014278e+00 -1.93085233e-03\n",
      " -3.10234837e+00  2.34354753e+00 -1.72031485e+00 -2.04614394e+00\n",
      "  8.47845679e-01 -3.73089521e+00]\n"
     ]
    },
    {
     "data": {
      "text/plain": [
       "[<matplotlib.lines.Line2D at 0x120679550>]"
      ]
     },
     "execution_count": 21,
     "metadata": {},
     "output_type": "execute_result"
    },
    {
     "data": {
      "image/png": "[encoded data removed]",
      "text/plain": [
       "<Figure size 576x396 with 1 Axes>"
      ]
     },
     "metadata": {},
     "output_type": "display_data"
    }
   ],
   "source": [
    "theta,error_list = gradient_descent(X,Y)\n",
    "print(theta)\n",
    "plt.plot(error_list)"
   ]
  },
  {
   "cell_type": "markdown",
   "id": "30fac0a5",
   "metadata": {},
   "source": [
    "### Prediction"
   ]
  },
  {
   "cell_type": "code",
   "execution_count": 22,
   "id": "896b7428",
   "metadata": {},
   "outputs": [],
   "source": [
    "y_pred_list = []\n",
    "\n",
    "m = X.shape[0]\n",
    "\n",
    "for i in range(m) :\n",
    "    pred = hypothesis(X[i],theta)\n",
    "    y_pred_list.append(pred)\n",
    "    \n",
    "y_pred_list = np.array(y_pred_list)"
   ]
  },
  {
   "cell_type": "markdown",
   "id": "0271c8e5",
   "metadata": {},
   "source": [
    "### R2 Score"
   ]
  },
  {
   "cell_type": "code",
   "execution_count": 23,
   "id": "26a71b7b",
   "metadata": {},
   "outputs": [],
   "source": [
    "def r2_score(Y, Y_) :\n",
    "    num = np.sum((Y - Y_)**2)\n",
    "    denom = np.sum((Y - Y.mean())**2)\n",
    "    score = 1 - num/denom\n",
    "    \n",
    "    return score * 100"
   ]
  },
  {
   "cell_type": "code",
   "execution_count": 24,
   "id": "3e78ff78",
   "metadata": {},
   "outputs": [
    {
     "data": {
      "text/plain": [
       "74.04541323942743"
      ]
     },
     "execution_count": 24,
     "metadata": {},
     "output_type": "execute_result"
    }
   ],
   "source": [
    "r2_score(Y,y_pred_list)"
   ]
  },
  {
   "cell_type": "code",
   "execution_count": null,
   "id": "cae14777",
   "metadata": {},
   "outputs": [],
   "source": []
  }
 ],
 "metadata": {
  "kernelspec": {
   "display_name": "Python 3 (ipykernel)",
   "language": "python",
   "name": "python3"
  },
  "language_info": {
   "codemirror_mode": {
    "name": "ipython",
    "version": 3
   },
   "file_extension": ".py",
   "mimetype": "text/x-python",
   "name": "python",
   "nbconvert_exporter": "python",
   "pygments_lexer": "ipython3",
   "version": "3.8.2"
  }
 },
 "nbformat": 4,
 "nbformat_minor": 5
}
