{
 "cells": [
  {
   "cell_type": "markdown",
   "id": "53b51882",
   "metadata": {},
   "source": [
    "# Linear Regression using Normal Equation"
   ]
  },
  {
   "cell_type": "code",
   "execution_count": 1,
   "id": "1e3e6034",
   "metadata": {},
   "outputs": [],
   "source": [
    "import numpy as np\n",
    "import pandas as pd\n",
    "import matplotlib.pyplot as plt\n",
    "from numpy.linalg import inv"
   ]
  },
  {
   "cell_type": "code",
   "execution_count": 2,
   "id": "5b691402",
   "metadata": {},
   "outputs": [
    {
     "name": "stdout",
     "output_type": "stream",
     "text": [
      "(506, 13)\n",
      "(506,)\n"
     ]
    }
   ],
   "source": [
    "data = pd.read_csv('./TrainingData/housing.csv', header=None, delimiter=\"\\s+\")\n",
    "data = data.values\n",
    "X = data[:, :13]\n",
    "Y = data[:,13]\n",
    "print(X.shape)\n",
    "print(Y.shape)"
   ]
  },
  {
   "cell_type": "code",
   "execution_count": 3,
   "id": "3bd060d4",
   "metadata": {},
   "outputs": [],
   "source": [
    "def normal(X,Y) :\n",
    "    theta = inv(X.T.dot(X)).dot(X.T).dot(Y)\n",
    "    return theta\n",
    "\n",
    "def hypothesis(x,theta) :\n",
    "    n = x.shape[0]\n",
    "    y_ = 0\n",
    "    \n",
    "    for i in range(n) :\n",
    "        y_ += theta[i] * x[i]\n",
    "        \n",
    "    return y_\n",
    "\n",
    "def r2_score(Y, Y_) :\n",
    "    num = np.sum((Y - Y_)**2)\n",
    "    denom = np.sum((Y - Y.mean())**2)\n",
    "    score = 1 - num/denom\n",
    "    \n",
    "    return score * 100"
   ]
  },
  {
   "cell_type": "code",
   "execution_count": 4,
   "id": "b49afda1",
   "metadata": {},
   "outputs": [
    {
     "name": "stdout",
     "output_type": "stream",
     "text": [
      "[-9.28965170e-02  4.87149552e-02 -4.05997958e-03  2.85399882e+00\n",
      " -2.86843637e+00  5.92814778e+00 -7.26933458e-03 -9.68514157e-01\n",
      "  1.71151128e-01 -9.39621540e-03 -3.92190926e-01  1.49056102e-02\n",
      " -4.16304471e-01]\n"
     ]
    }
   ],
   "source": [
    "theta = normal(X,Y)\n",
    "print(theta)"
   ]
  },
  {
   "cell_type": "code",
   "execution_count": 5,
   "id": "ac8eac96",
   "metadata": {},
   "outputs": [],
   "source": [
    "y_pred_list = []\n",
    "\n",
    "m = X.shape[0]\n",
    "\n",
    "for i in range(m) :\n",
    "    pred = hypothesis(X[i],theta)\n",
    "    y_pred_list.append(pred)\n",
    "    \n",
    "y_pred_list = np.array(y_pred_list)"
   ]
  },
  {
   "cell_type": "code",
   "execution_count": 6,
   "id": "fdedd5be",
   "metadata": {},
   "outputs": [
    {
     "data": {
      "text/plain": [
       "71.37381380515404"
      ]
     },
     "execution_count": 6,
     "metadata": {},
     "output_type": "execute_result"
    }
   ],
   "source": [
    "r2_score(Y,y_pred_list)"
   ]
  },
  {
   "cell_type": "markdown",
   "id": "230b2e45",
   "metadata": {},
   "source": [
    "# KNN Algorithm (K Nearest Neighbours)"
   ]
  },
  {
   "cell_type": "code",
   "execution_count": 7,
   "id": "86c0261f",
   "metadata": {},
   "outputs": [
    {
     "name": "stdout",
     "output_type": "stream",
     "text": [
      "   Id  SepalLengthCm  SepalWidthCm  PetalLengthCm  PetalWidthCm      Species\n",
      "0   1            5.1           3.5            1.4           0.2  Iris-setosa\n",
      "1   2            4.9           3.0            1.4           0.2  Iris-setosa\n",
      "2   3            4.7           3.2            1.3           0.2  Iris-setosa\n",
      "3   4            4.6           3.1            1.5           0.2  Iris-setosa\n",
      "4   5            5.0           3.6            1.4           0.2  Iris-setosa\n",
      "(150, 2)\n",
      "(150,)\n"
     ]
    }
   ],
   "source": [
    "data = pd.read_csv('./TrainingData/Iris.csv')\n",
    "print(data.head())\n",
    "data = data.values\n",
    "\n",
    "X = data[:,3:5]\n",
    "Y = data[:,5]\n",
    "\n",
    "print(X.shape)\n",
    "print(Y.shape)"
   ]
  },
  {
   "cell_type": "code",
   "execution_count": 8,
   "id": "2d2ab34b",
   "metadata": {},
   "outputs": [
    {
     "data": {
      "image/png": "[encoded data removed]",
      "text/plain": [
       "<Figure size 576x396 with 1 Axes>"
      ]
     },
     "metadata": {},
     "output_type": "display_data"
    }
   ],
   "source": [
    "plt.style.use('seaborn')\n",
    "plt.scatter(X[:,0],X[:,1])\n",
    "plt.show()"
   ]
  },
  {
   "cell_type": "code",
   "execution_count": 9,
   "id": "1eb0bc12",
   "metadata": {},
   "outputs": [],
   "source": [
    "def dist(p1,p2) :\n",
    "    return np.sqrt(sum((p1 - p2)**2))\n",
    "\n",
    "def knn(X,Y,query,k=5) :\n",
    "    \n",
    "    list_dist = []\n",
    "    m = X.shape[0]\n",
    "    \n",
    "    for i in range(m) :\n",
    "        d = dist(query, X[i])\n",
    "        list_dist.append((d,Y[i]))"
   ]
  }
 ],
 "metadata": {
  "kernelspec": {
   "display_name": "Python 3 (ipykernel)",
   "language": "python",
   "name": "python3"
  },
  "language_info": {
   "codemirror_mode": {
    "name": "ipython",
    "version": 3
   },
   "file_extension": ".py",
   "mimetype": "text/x-python",
   "name": "python",
   "nbconvert_exporter": "python",
   "pygments_lexer": "ipython3",
   "version": "3.8.9"
  }
 },
 "nbformat": 4,
 "nbformat_minor": 5
}
